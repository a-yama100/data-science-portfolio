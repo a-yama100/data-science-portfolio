{
 "cells": [
  {
   "cell_type": "markdown",
   "metadata": {},
   "source": [
    "# A/B Test Analysis Project\n",
    "\n",
    "This notebook demonstrates the analysis of A/B test data, including:\n",
    "- Data generation\n",
    "- Statistical analysis\n",
    "- Visualization of results\n",
    "- Business impact interpretation"
   ]
  },
  {
   "cell_type": "code",
   "execution_count": null,
   "metadata": {},
   "outputs": [],
   "source": [
    "import pandas as pd\n",
    "import numpy as np\n",
    "from scipy import stats\n",
    "import matplotlib.pyplot as plt\n",
    "import seaborn as sns\n",
    "\n",
    "# Set style for better visualization\n",
    "plt.style.use('seaborn')\n",
    "sns.set_palette('Set2')"
   ]
  },
  {
   "cell_type": "markdown",
   "metadata": {},
   "source": [
    "## Data Generation\n",
    "Generate sample A/B test data with known parameters."
   ]
  },
  {
   "cell_type": "code",
   "execution_count": null,
   "metadata": {},
   "outputs": [],
   "source": [
    "def generate_ab_test_data(n_samples=1000, base_conv_rate=0.10, lift=0.02, random_seed=42):\n",
    "    \"\"\"\n",
    "    Generate sample data for A/B testing\n",
    "    \n",
    "    Parameters:\n",
    "    -----------\n",
    "    n_samples : int\n",
    "        Number of samples per group\n",
    "    base_conv_rate : float\n",
    "        Base conversion rate for group A\n",
    "    lift : float\n",
    "        Expected improvement in group B\n",
    "    random_seed : int\n",
    "        Random seed for reproducibility\n",
    "    \"\"\"\n",
    "    np.random.seed(random_seed)\n",
    "    \n",
    "    # Generate group A data\n",
    "    group_a = np.random.binomial(n=1, p=base_conv_rate, size=n_samples)\n",
    "    \n",
    "    # Generate group B data (with lift)\n",
    "    group_b = np.random.binomial(n=1, p=base_conv_rate + lift, size=n_samples)\n",
    "    \n",
    "    # Create DataFrame\n",
    "    df = pd.DataFrame({\n",
    "        'group': ['A'] * n_samples + ['B'] * n_samples,\n",
    "        'conversion': np.concatenate([group_a, group_b]),\n",
    "        'timestamp': pd.date_range(start='2024-01-01', periods=2*n_samples, freq='H')\n",
    "    })\n",
    "    \n",
    "    return df\n",
    "\n",
    "# Generate test data\n",
    "df = generate_ab_test_data()\n",
    "df.head()"
   ]
  }
 ],
 "metadata": {
  "kernelspec": {
   "display_name": "Python 3",
   "language": "python",
   "name": "python3"
  },
  "language_info": {
   "codemirror_mode": {
    "name": "ipython",
    "version": 3
   },
   "file_extension": ".py",
   "mimetype": "text/x-python",
   "name": "python",
   "nbconvert_exporter": "python",
   "pygments_lexer": "ipython3",
   "version": "3.8.0"
  }
 },
 "nbformat": 4,
 "nbformat_minor": 4
}
