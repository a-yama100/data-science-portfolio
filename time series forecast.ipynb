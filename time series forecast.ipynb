{
 "cells": [
  {
   "cell_type": "markdown",
   "metadata": {},
   "source": [
    "# Time Series Analysis & Forecasting Project\n",
    "\n",
    "This notebook demonstrates time series analysis and forecasting, including:\n",
    "- Data preprocessing and visualization\n",
    "- Time series decomposition\n",
    "- Model development using SARIMA\n",
    "- Forecasting and evaluation"
   ]
  },
  {
   "cell_type": "code",
   "execution_count": null,
   "metadata": {},
   "outputs": [],
   "source": [
    "import pandas as pd\n",
    "import numpy as np\n",
    "import matplotlib.pyplot as plt\n",
    "import seaborn as sns\n",
    "from statsmodels.tsa.seasonal import seasonal_decompose\n",
    "from statsmodels.tsa.statespace.sarimax import SARIMAX\n",
    "from sklearn.metrics import mean_squared_error, mean_absolute_error\n",
    "from datetime import datetime, timedelta\n",
    "\n",
    "# Set style for visualizations\n",
    "plt.style.use('seaborn')\n",
    "sns.set_palette('deep')"
   ]
  },
  {
   "cell_type": "code",
   "execution_count": null,
   "metadata": {},
   "outputs": [],
   "source": [
    "def generate_sample_data(n_periods=365):\n",
    "    \"\"\"\n",
    "    Generate sample time series data with trend, seasonality, and noise\n",
    "    \n",
    "    Parameters:\n",
    "    -----------\n",
    "    n_periods : int\n",
    "        Number of time periods to generate\n",
    "    \"\"\"\n",
    "    # Generate date range\n",
    "    dates = pd.date_range(start='2023-01-01', periods=n_periods, freq='D')\n",
    "    \n",
    "    # Generate components\n",
    "    trend = np.linspace(0, 10, n_periods)\n",
    "    seasonal = 5 * np.sin(2 * np.pi * np.arange(n_periods) / 365)  # Yearly seasonality\n",
    "    noise = np.random.normal(0, 1, n_periods)\n",
    "    \n",
    "    # Combine components\n",
    "    values = trend + seasonal + noise\n",
    "    \n",
    "    # Create DataFrame\n",
    "    df = pd.DataFrame({\n",
    "        'date': dates,\n",
    "        'value': values\n",
    "    })\n",
    "    df.set_index('date', inplace=True)\n",
    "    \n",
    "    return df\n",
    "\n",
    "# Generate sample data\n",
    "df = generate_sample_data()\n",
    "df.head()"
   ]
  },
  {
   "cell_type": "code",
   "execution_count": null,
   "metadata": {},
   "outputs": [],
   "source": [
    "# Visualize the time series\n",
    "plt.figure(figsize=(12, 6))\n",
    "plt.plot(df.index, df['value'])\n",
    "plt.title('Time Series Data')\n",
    "plt.xlabel('Date')\n",
    "plt.ylabel('Value')\n",
    "plt.show()\n",
    "\n",
    "# Decompose the time series\n",
    "decomposition = seasonal_decompose(df['value'], period=365)\n",
    "\n",
    "fig, (ax1, ax2, ax3, ax4) = plt.subplots(4, 1, figsize=(12, 10))\n",
    "decomposition.observed.plot(ax=ax1)\n",
    "ax1.set_title('Observed')\n",
    "decomposition.trend.plot(ax=ax2)\n",
    "ax2.set_title('Trend')\n",
    "decomposition.seasonal.plot(ax=ax3)\n",
    "ax3.set_title('Seasonal')\n",
    "decomposition.resid.plot(ax=ax4)\n",
    "ax4.set_title('Residual')\n",
    "plt.tight_layout()\n",
    "plt.show()"
   ]
  },
  {
   "cell_type": "code",
   "execution_count": null,
   "metadata": {},
   "outputs": [],
   "source": [
    "# Split data into train and test sets\n",
    "train_size = int(len(df) * 0.8)\n",
    "train = df[:train_size]\n",
    "test = df[train_size:]\n",
    "\n",
    "# Fit SARIMA model\n",
    "model = SARIMAX(train['value'],\n",
    "                order=(1, 1, 1),\n",
    "                seasonal_order=(1, 1, 1, 12))\n",
    "results = model.fit()\n",
    "\n",
    "# Make predictions\n",
    "forecast = results.get_forecast(steps=len(test))\n",
    "forecast_mean = forecast.predicted_mean\n",
    "forecast_ci = forecast.conf_int()"
   ]
  },
  {
   "cell_type": "code",
   "execution_count": null,
   "metadata": {},
   "outputs": [],
   "source": [
    "# Plot results\n",
    "plt.figure(figsize=(12, 6))\n",
    "plt.plot(train.index, train['value'], label='Training Data')\n",
    "plt.plot(test.index, test['value'], label='Actual Test Data')\n",
    "plt.plot(test.index, forecast_mean, label='Forecast')\n",
    "plt.fill_between(test.index,\n",
    "                 forecast_ci.iloc[:, 0],\n",
    "                 forecast_ci.iloc[:, 1],\n",
    "                 color='k', alpha=0.1)\n",
    "plt.title('Time Series Forecast')\n",
    "plt.xlabel('Date')\n",
    "plt.ylabel('Value')\n",
    "plt.legend()\n",
    "plt.show()\n",
    "\n",
    "# Calculate error metrics\n",
    "mse = mean_squared_error(test['value'], forecast_mean)\n",
    "mae = mean_absolute_error(test['value'], forecast_mean)\n",
    "rmse = np.sqrt(mse)\n",
    "\n",
    "print(f'Mean Squared Error: {mse:.2f}')\n",
    "print(f'Mean Absolute Error: {mae:.2f}')\n",
    "print(f'Root Mean Squared Error: {rmse:.2f}')"
   ]
  }
 ],
 "metadata": {
  "kernelspec": {
   "display_name": "Python 3",
   "language": "python",
   "name": "python3"
  },
  "language_info": {
   "codemirror_mode": {
    "name": "ipython",
    "version": 3
   },
   "file_extension": ".py",
   "mimetype": "text/x-python",
   "name": "python",
   "nbconvert_exporter": "python",
   "pygments_lexer": "ipython3",
   "version": "3.8.0"
  }
 },
 "nbformat": 4,
 "nbformat_minor": 4
}